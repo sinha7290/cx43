{
 "cells": [
  {
   "cell_type": "code",
   "execution_count": 1,
   "metadata": {},
   "outputs": [],
   "source": [
    "# IMPORT STATEMENTS\n",
    "import cv2\n",
    "import re\n",
    "import numpy as np\n",
    "from matplotlib import pyplot as plt\n",
    "from mpl_toolkits.axes_grid1 import make_axes_locatable, axes_size\n",
    "import matplotlib.patches as patches\n",
    "import matplotlib.colors as colors\n",
    "import PIL\n",
    "import math\n",
    "%matplotlib inline\n",
    "import pandas as pd\n",
    "import seaborn as sns\n",
    "import json\n",
    "from scipy.stats import fisher_exact, ttest_ind\n",
    "from collections import Counter\n",
    "from pprint import pprint\n",
    "import os\n",
    "import pickle\n",
    "import sys\n",
    "sys.path.append(\"/booleanfs2/sahoo/Hegemon/\")\n",
    "import StepMiner as smn\n",
    "import HegemonUtil as hu\n",
    "acolor = [\"#00CC00\", \"#D8A03D\",\"#EC008C\",\n",
    "          'cyan', \"#B741DC\", \"#808285\",\n",
    "          'blue', 'black', 'green', 'red',\n",
    "          'orange', 'brown', 'pink', 'purple']\n",
    "\n",
    "try:\n",
    "    reload  # Python 2.7\n",
    "except NameError:\n",
    "    try:\n",
    "        from importlib import reload  # Python 3.4+\n",
    "    except ImportError:\n",
    "        from imp import reload  # Python 3.0 - 3.3"
   ]
  },
  {
   "cell_type": "code",
   "execution_count": 2,
   "metadata": {},
   "outputs": [],
   "source": [
    "import matplotlib\n",
    "matplotlib.rcParams['pdf.fonttype'] = 42\n",
    "matplotlib.rcParams['ps.fonttype'] = 42\n",
    "def getPDF(cfile):\n",
    "    import bone\n",
    "    reload(bone)\n",
    "    from matplotlib.backends.backend_pdf import PdfPages\n",
    "\n",
    "    pdf = PdfPages(cfile)\n",
    "    return pdf\n",
    "\n",
    "def closePDF(pdf):\n",
    "    import datetime\n",
    "    d = pdf.infodict()\n",
    "    d['ModDate'] = datetime.datetime.today()\n",
    "    pdf.close()\n",
    "def getGene(ana, name):\n",
    "    id1 = ana.h.getBestID(ana.h.getIDs(name).keys())\n",
    "    expr = ana.h.getExprData(id1)\n",
    "    lval = [[] for i in ana.atypes]\n",
    "    if expr is None:\n",
    "        print(\"Not Found\")\n",
    "        return lval\n",
    "    aval = ana.aval\n",
    "    for i in ana.h.aRange():\n",
    "        if aval[i] is None:\n",
    "            continue\n",
    "        lval[aval[i]] += [float(expr[i])]\n",
    "    return lval"
   ]
  },
  {
   "cell_type": "code",
   "execution_count": 4,
   "metadata": {},
   "outputs": [
    {
     "name": "stdout",
     "output_type": "stream",
     "text": [
      "Hatzis 2011 breast (n = 508)\n",
      "GSE25066 http://hegemon.ucsd.edu/Tools/explore.php?key=blood:leukemia&id=BC8\n",
      "508 397 111 0 BC8\n",
      "[74]\n"
     ]
    },
    {
     "name": "stderr",
     "output_type": "stream",
     "text": [
      "/usr/local/lib/python3.6/dist-packages/lifelines/fitters/kaplan_meier_fitter.py:268: FutureWarning: Support for multi-dimensional indexing (e.g. `obj[:, None]`) is deprecated and will be removed in a future version.  Convert to a numpy array before indexing instead.\n",
      "  self.confidence_interval_ = self._bounds(cumulative_sq_[:, None], alpha, ci_labels)\n",
      "/usr/local/lib/python3.6/dist-packages/pandas/plotting/_matplotlib/core.py:668: MatplotlibDeprecationWarning: Saw kwargs ['c', 'color'] which are all aliases for 'color'.  Kept value from 'color'.  Passing multiple aliases for the same property will raise a TypeError in 3.3.\n",
      "  return ax.plot(*args, **kwds)\n",
      "/usr/local/lib/python3.6/dist-packages/lifelines/fitters/kaplan_meier_fitter.py:268: FutureWarning: Support for multi-dimensional indexing (e.g. `obj[:, None]`) is deprecated and will be removed in a future version.  Convert to a numpy array before indexing instead.\n",
      "  self.confidence_interval_ = self._bounds(cumulative_sq_[:, None], alpha, ci_labels)\n",
      "/usr/local/lib/python3.6/dist-packages/pandas/plotting/_matplotlib/core.py:668: MatplotlibDeprecationWarning: Saw kwargs ['c', 'color'] which are all aliases for 'color'.  Kept value from 'color'.  Passing multiple aliases for the same property will raise a TypeError in 3.3.\n",
      "  return ax.plot(*args, **kwds)\n"
     ]
    },
    {
     "name": "stdout",
     "output_type": "stream",
     "text": [
      "Hatzis 2011 breast (n = 508)\n",
      "GSE25066 http://hegemon.ucsd.edu/Tools/explore.php?key=blood:leukemia&id=BC8\n",
      "508 397 111 0 BC8\n",
      "[74]\n"
     ]
    },
    {
     "name": "stderr",
     "output_type": "stream",
     "text": [
      "/usr/local/lib/python3.6/dist-packages/lifelines/fitters/kaplan_meier_fitter.py:268: FutureWarning: Support for multi-dimensional indexing (e.g. `obj[:, None]`) is deprecated and will be removed in a future version.  Convert to a numpy array before indexing instead.\n",
      "  self.confidence_interval_ = self._bounds(cumulative_sq_[:, None], alpha, ci_labels)\n",
      "/usr/local/lib/python3.6/dist-packages/pandas/plotting/_matplotlib/core.py:668: MatplotlibDeprecationWarning: Saw kwargs ['c', 'color'] which are all aliases for 'color'.  Kept value from 'color'.  Passing multiple aliases for the same property will raise a TypeError in 3.3.\n",
      "  return ax.plot(*args, **kwds)\n",
      "/usr/local/lib/python3.6/dist-packages/lifelines/fitters/kaplan_meier_fitter.py:268: FutureWarning: Support for multi-dimensional indexing (e.g. `obj[:, None]`) is deprecated and will be removed in a future version.  Convert to a numpy array before indexing instead.\n",
      "  self.confidence_interval_ = self._bounds(cumulative_sq_[:, None], alpha, ci_labels)\n",
      "/usr/local/lib/python3.6/dist-packages/pandas/plotting/_matplotlib/core.py:668: MatplotlibDeprecationWarning: Saw kwargs ['c', 'color'] which are all aliases for 'color'.  Kept value from 'color'.  Passing multiple aliases for the same property will raise a TypeError in 3.3.\n",
      "  return ax.plot(*args, **kwds)\n"
     ]
    },
    {
     "data": {
      "image/png": "[encoded data removed]",
      "text/plain": [
       "<Figure size 288x288 with 2 Axes>"
      ]
     },
     "metadata": {
      "needs_background": "light"
     },
     "output_type": "display_data"
    },
    {
     "data": {
      "image/png": "[encoded data removed]",
      "text/plain": [
       "<Figure size 288x288 with 2 Axes>"
      ]
     },
     "metadata": {
      "needs_background": "light"
     },
     "output_type": "display_data"
    }
   ],
   "source": [
    "import bone\n",
    "reload(bone)\n",
    "cfile = \"/Users/sinha7290/public_html/BoNE/39_ER_KM.pdf\"\n",
    "pdf = getPDF(cfile)\n",
    "\n",
    "\n",
    "def printTestSurvival(l1, wt1, ax = None, ERstat = None, HERstat = None, pthr=None):\n",
    "    ana = bone.MacAnalysis()\n",
    "    ana.getSurvival(\"BC8\")\n",
    "    gender = ana.h.getSurvName('c er_status_ihc')\n",
    "    ana.order = [i for i in ana.order if gender[i] == ERstat]\n",
    "    ana.orderData(l1, wt1)\n",
    "    time = ana.h.getSurvName('time')\n",
    "    status = ana.h.getSurvName('status')\n",
    "    time1 = [time[i] for i in ana.order]\n",
    "    status1 = [status[i] for i in ana.order]\n",
    "    thr = hu.getThrData(ana.f_ranks)\n",
    "    fthr = thr[0]\n",
    "    group1 = [1 if ana.f_ranks[i - ana.h.start] > fthr else 0  for i in ana.order]\n",
    "\n",
    "\n",
    "\n",
    "    df = pd.DataFrame()\n",
    "    df['time'] = time1\n",
    "    df['status'] = status1\n",
    "    df['group'] = group1\n",
    "    g1 = [i for i in df.index if df['group'][i] == 0]\n",
    "    g2 = [i for i in df.index if df['group'][i] == 1]\n",
    "    pG = [ [\"Low\", \"green\", g1], [\"High\", \"red\", g2]]\n",
    "    time, status = hu.censor(df['time'], df['status'], 5)\n",
    "    ax = hu.survival(time, status, pG, ax)\n",
    "    return ax\n",
    "\n",
    "\n",
    "wt1, l1 = [1], [bone.getEntries(\"Luker39.txt\", 0)]\n",
    "\n",
    "\n",
    "sax = printTestSurvival(l1, wt1, None,  'N')\n",
    "sax.set_title('ER-')\n",
    "pdf.savefig(transparent=True)\n",
    "\n",
    "sax = printTestSurvival(l1, wt1, None,  'P')\n",
    "sax.set_title('ER+')\n",
    "pdf.savefig(transparent=True)\n",
    "closePDF(pdf)"
   ]
  },
  {
   "cell_type": "code",
   "execution_count": 5,
   "metadata": {},
   "outputs": [
    {
     "name": "stdout",
     "output_type": "stream",
     "text": [
      "Hatzis 2011 breast (n = 508)\n",
      "GSE25066 http://hegemon.ucsd.edu/Tools/explore.php?key=blood:leukemia&id=BC8\n",
      "508 397 111 0 BC8\n",
      "[74]\n",
      "[74]\n"
     ]
    },
    {
     "name": "stderr",
     "output_type": "stream",
     "text": [
      "/usr/local/lib/python3.6/dist-packages/lifelines/fitters/kaplan_meier_fitter.py:268: FutureWarning: Support for multi-dimensional indexing (e.g. `obj[:, None]`) is deprecated and will be removed in a future version.  Convert to a numpy array before indexing instead.\n",
      "  self.confidence_interval_ = self._bounds(cumulative_sq_[:, None], alpha, ci_labels)\n",
      "/usr/local/lib/python3.6/dist-packages/pandas/plotting/_matplotlib/core.py:668: MatplotlibDeprecationWarning: Saw kwargs ['c', 'color'] which are all aliases for 'color'.  Kept value from 'color'.  Passing multiple aliases for the same property will raise a TypeError in 3.3.\n",
      "  return ax.plot(*args, **kwds)\n",
      "/usr/local/lib/python3.6/dist-packages/lifelines/fitters/kaplan_meier_fitter.py:268: FutureWarning: Support for multi-dimensional indexing (e.g. `obj[:, None]`) is deprecated and will be removed in a future version.  Convert to a numpy array before indexing instead.\n",
      "  self.confidence_interval_ = self._bounds(cumulative_sq_[:, None], alpha, ci_labels)\n",
      "/usr/local/lib/python3.6/dist-packages/pandas/plotting/_matplotlib/core.py:668: MatplotlibDeprecationWarning: Saw kwargs ['c', 'color'] which are all aliases for 'color'.  Kept value from 'color'.  Passing multiple aliases for the same property will raise a TypeError in 3.3.\n",
      "  return ax.plot(*args, **kwds)\n"
     ]
    },
    {
     "name": "stdout",
     "output_type": "stream",
     "text": [
      "Hatzis 2011 breast (n = 508)\n",
      "GSE25066 http://hegemon.ucsd.edu/Tools/explore.php?key=blood:leukemia&id=BC8\n",
      "508 397 111 0 BC8\n",
      "[74]\n",
      "[74]\n"
     ]
    },
    {
     "name": "stderr",
     "output_type": "stream",
     "text": [
      "/usr/local/lib/python3.6/dist-packages/lifelines/fitters/kaplan_meier_fitter.py:268: FutureWarning: Support for multi-dimensional indexing (e.g. `obj[:, None]`) is deprecated and will be removed in a future version.  Convert to a numpy array before indexing instead.\n",
      "  self.confidence_interval_ = self._bounds(cumulative_sq_[:, None], alpha, ci_labels)\n",
      "/usr/local/lib/python3.6/dist-packages/pandas/plotting/_matplotlib/core.py:668: MatplotlibDeprecationWarning: Saw kwargs ['c', 'color'] which are all aliases for 'color'.  Kept value from 'color'.  Passing multiple aliases for the same property will raise a TypeError in 3.3.\n",
      "  return ax.plot(*args, **kwds)\n",
      "/usr/local/lib/python3.6/dist-packages/lifelines/fitters/kaplan_meier_fitter.py:268: FutureWarning: Support for multi-dimensional indexing (e.g. `obj[:, None]`) is deprecated and will be removed in a future version.  Convert to a numpy array before indexing instead.\n",
      "  self.confidence_interval_ = self._bounds(cumulative_sq_[:, None], alpha, ci_labels)\n",
      "/usr/local/lib/python3.6/dist-packages/pandas/plotting/_matplotlib/core.py:668: MatplotlibDeprecationWarning: Saw kwargs ['c', 'color'] which are all aliases for 'color'.  Kept value from 'color'.  Passing multiple aliases for the same property will raise a TypeError in 3.3.\n",
      "  return ax.plot(*args, **kwds)\n"
     ]
    },
    {
     "data": {
      "image/png": "[encoded data removed]",
      "text/plain": [
       "<Figure size 288x288 with 2 Axes>"
      ]
     },
     "metadata": {
      "needs_background": "light"
     },
     "output_type": "display_data"
    },
    {
     "data": {
      "image/png": "[encoded data removed]",
      "text/plain": [
       "<Figure size 288x288 with 2 Axes>"
      ]
     },
     "metadata": {
      "needs_background": "light"
     },
     "output_type": "display_data"
    }
   ],
   "source": [
    "import bone\n",
    "reload(bone)\n",
    "cfile = \"/Users/sinha7290/public_html/BoNE/39_Rx_km.pdf\"\n",
    "pdf = getPDF(cfile)\n",
    "\n",
    "\n",
    "def printTestSurvival(l1, wt1, ax = None, ERstat = None, HERstat = None, pthr=None):\n",
    "    ana = bone.MacAnalysis()\n",
    "    ana.getSurvival(\"BC8\")\n",
    "    gender = ana.h.getSurvName('c dlda30_prediction')\n",
    "    ana.order = [i for i in ana.order if gender[i] == ERstat]\n",
    "    ana.orderData(l1, wt1)\n",
    "    gender2 = ana.h.getSurvName('c chemosensitivity_prediction')\n",
    "    ana.order = [i for i in ana.order if gender2[i] == HERstat]\n",
    "    ana.orderData(l1, wt1)\n",
    "    time = ana.h.getSurvName('time')\n",
    "    status = ana.h.getSurvName('status')\n",
    "    time1 = [time[i] for i in ana.order]\n",
    "    status1 = [status[i] for i in ana.order]\n",
    "    thr = hu.getThrData(ana.f_ranks)\n",
    "    fthr = thr[0]\n",
    "    group1 = [1 if ana.f_ranks[i - ana.h.start] > fthr else 0  for i in ana.order]\n",
    "\n",
    "\n",
    "\n",
    "    df = pd.DataFrame()\n",
    "    df['time'] = time1\n",
    "    df['status'] = status1\n",
    "    df['group'] = group1\n",
    "    g1 = [i for i in df.index if df['group'][i] == 0]\n",
    "    g2 = [i for i in df.index if df['group'][i] == 1]\n",
    "    pG = [ [\"Low\", \"green\", g1], [\"High\", \"red\", g2]]\n",
    "    time, status = hu.censor(df['time'], df['status'], 200)\n",
    "    ax = hu.survival(time, status, pG, ax)\n",
    "    return ax\n",
    "\n",
    "\n",
    "\n",
    "wt1, l1 = [1], [bone.getEntries(\"Luker39.txt\", 0)]\n",
    "\n",
    "\n",
    "sax = printTestSurvival(l1, wt1, None,  'RD', 'Rx Insensitive')\n",
    "sax.set_title('RD/Rx Insensitive')\n",
    "pdf.savefig(transparent=True)\n",
    "\n",
    "sax = printTestSurvival(l1, wt1, None,  'pCR', 'Rx Sensitive')\n",
    "sax.set_title('pCR/Rx Sensitive')\n",
    "pdf.savefig(transparent=True)\n",
    "closePDF(pdf)"
   ]
  },
  {
   "cell_type": "code",
   "execution_count": null,
   "metadata": {},
   "outputs": [],
   "source": []
  }
 ],
 "metadata": {
  "kernelspec": {
   "display_name": "Python 3 (ipykernel)",
   "language": "python",
   "name": "python3"
  },
  "language_info": {
   "codemirror_mode": {
    "name": "ipython",
    "version": 3
   },
   "file_extension": ".py",
   "mimetype": "text/x-python",
   "name": "python",
   "nbconvert_exporter": "python",
   "pygments_lexer": "ipython3",
   "version": "3.6.9"
  }
 },
 "nbformat": 4,
 "nbformat_minor": 2
}
